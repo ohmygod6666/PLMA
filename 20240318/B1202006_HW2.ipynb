{
  "nbformat": 4,
  "nbformat_minor": 0,
  "metadata": {
    "colab": {
      "provenance": []
    },
    "kernelspec": {
      "name": "python3",
      "display_name": "Python 3"
    },
    "language_info": {
      "name": "python"
    }
  },
  "cells": [
    {
      "cell_type": "code",
      "execution_count": null,
      "metadata": {
        "colab": {
          "base_uri": "https://localhost:8080/"
        },
        "id": "Fq7fze2Bd_rG",
        "outputId": "5db2f04e-6570-4bf8-ae88-857a8c3c501d"
      },
      "outputs": [
        {
          "output_type": "stream",
          "name": "stdout",
          "text": [
            "A\n",
            "['K', 'H', 'U']\n"
          ]
        }
      ],
      "source": [
        "a=('C,B,A')\n",
        "a1=a.split(',')\n",
        "b=['F','G','H']\n",
        "c=a1+b\n",
        "c[0]='K'\n",
        "d=c.pop(2)\n",
        "print(d)\n",
        "del c[1:4]\n",
        "c.insert(2,'U')\n",
        "print(c)"
      ]
    },
    {
      "cell_type": "code",
      "source": [
        "a=(input('輸入八位數字'))\n",
        "b=list(a)\n",
        "print(b[4])"
      ],
      "metadata": {
        "colab": {
          "base_uri": "https://localhost:8080/"
        },
        "id": "VAJHxgFqgiR5",
        "outputId": "f46141c8-9082-46f0-807a-d9490b4d11e6"
      },
      "execution_count": null,
      "outputs": [
        {
          "output_type": "stream",
          "name": "stdout",
          "text": [
            "輸入八位數字12345678\n",
            "5\n"
          ]
        }
      ]
    },
    {
      "cell_type": "code",
      "source": [
        "a=('My ID is B1202006')\n",
        "b=a.split(' ')\n",
        "print(len(b))\n",
        "print(len(b[3]))"
      ],
      "metadata": {
        "colab": {
          "base_uri": "https://localhost:8080/"
        },
        "id": "XZRhtKmygibI",
        "outputId": "f6de03a9-2fb9-42b0-adf0-101310176a93"
      },
      "execution_count": null,
      "outputs": [
        {
          "output_type": "stream",
          "name": "stdout",
          "text": [
            "4\n",
            "8\n"
          ]
        }
      ]
    },
    {
      "cell_type": "code",
      "source": [
        "a=(\"I'm a student\")\n",
        "b=a.split(' ')\n",
        "print(b[0][2])"
      ],
      "metadata": {
        "colab": {
          "base_uri": "https://localhost:8080/"
        },
        "id": "rICjSd79giio",
        "outputId": "9cfada61-cf96-459e-a7a7-a12e796b0b99"
      },
      "execution_count": null,
      "outputs": [
        {
          "output_type": "stream",
          "name": "stdout",
          "text": [
            "m\n"
          ]
        }
      ]
    }
  ]
}