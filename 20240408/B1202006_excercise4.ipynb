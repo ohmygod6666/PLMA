{
  "nbformat": 4,
  "nbformat_minor": 0,
  "metadata": {
    "colab": {
      "provenance": []
    },
    "kernelspec": {
      "name": "python3",
      "display_name": "Python 3"
    },
    "language_info": {
      "name": "python"
    }
  },
  "cells": [
    {
      "cell_type": "code",
      "execution_count": 5,
      "metadata": {
        "colab": {
          "base_uri": "https://localhost:8080/"
        },
        "id": "BVmxX3oVjH0n",
        "outputId": "8ab3b73c-a540-423c-bba1-369409dbda75"
      },
      "outputs": [
        {
          "output_type": "stream",
          "name": "stdout",
          "text": [
            "輸入身高(公分)170\n",
            "輸入體重(公斤)58\n",
            "適中\n"
          ]
        }
      ],
      "source": [
        "height=float(input('輸入身高(公分)'))\n",
        "weight=float(input('輸入體重(公斤)'))\n",
        "height*=height\n",
        "bmi=int(weight/(height/10000))\n",
        "if bmi<18.5:\n",
        "  print('過輕')\n",
        "if 18.5<=bmi<24:\n",
        "  print('適中')\n",
        "if 24<=bmi<27:\n",
        "  print('過重')\n",
        "if 27<=bmi:\n",
        "  print('肥胖')"
      ]
    },
    {
      "cell_type": "code",
      "source": [
        "number1=float(input('輸入第一個數字'))\n",
        "symbol=input('輸入運算符號')\n",
        "number2=float(input('輸入第二個數字'))\n",
        "if symbol=='+':\n",
        "  print(number1+number2)\n",
        "if symbol=='-':\n",
        "  print(number1-number2)\n",
        "if symbol=='*':\n",
        "  print(number1*number2)\n",
        "if symbol=='/':\n",
        "  print(number1/number2)"
      ],
      "metadata": {
        "colab": {
          "base_uri": "https://localhost:8080/"
        },
        "id": "CrpHSJcDmV2m",
        "outputId": "b7ad17b6-2678-4138-82ad-4decde294fe7"
      },
      "execution_count": 14,
      "outputs": [
        {
          "output_type": "stream",
          "name": "stdout",
          "text": [
            "輸入第一個數字15\n",
            "輸入運算符號-\n",
            "輸入第二個數字9\n",
            "6.0\n"
          ]
        }
      ]
    }
  ]
}