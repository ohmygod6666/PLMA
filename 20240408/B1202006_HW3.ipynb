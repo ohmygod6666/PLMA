{
  "nbformat": 4,
  "nbformat_minor": 0,
  "metadata": {
    "colab": {
      "provenance": []
    },
    "kernelspec": {
      "name": "python3",
      "display_name": "Python 3"
    },
    "language_info": {
      "name": "python"
    }
  },
  "cells": [
    {
      "cell_type": "code",
      "execution_count": null,
      "metadata": {
        "colab": {
          "base_uri": "https://localhost:8080/"
        },
        "id": "1IB01cXxrse_",
        "outputId": "857ef02d-126e-4e87-8743-ae99a8a942e1"
      },
      "outputs": [
        {
          "output_type": "stream",
          "name": "stdout",
          "text": [
            "輸入年分1600\n",
            "閏年\n"
          ]
        }
      ],
      "source": [
        "year=int(input('輸入年分'))\n",
        "if year<=1582:\n",
        "  if year%4==0:\n",
        "    print('閏年')\n",
        "  else:\n",
        "    print('平年')\n",
        "else:\n",
        "  if year%4==0:\n",
        "    if year%400==0 or year%100!=0:\n",
        "      print('閏年')\n",
        "    else:\n",
        "      print('平年')\n",
        "  else:\n",
        "    print('平年')\n"
      ]
    }
  ]
}