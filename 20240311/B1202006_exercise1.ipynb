{
  "nbformat": 4,
  "nbformat_minor": 0,
  "metadata": {
    "colab": {
      "provenance": []
    },
    "kernelspec": {
      "name": "python3",
      "display_name": "Python 3"
    },
    "language_info": {
      "name": "python"
    }
  },
  "cells": [
    {
      "cell_type": "code",
      "execution_count": 4,
      "metadata": {
        "colab": {
          "base_uri": "https://localhost:8080/"
        },
        "id": "xELysbXVj6WM",
        "outputId": "f4033d09-15b6-4654-8651-41b0ba97cc13"
      },
      "outputs": [
        {
          "output_type": "stream",
          "name": "stdout",
          "text": [
            "長庚大學\n",
            "醫學系\n",
            "郭柏佑\n"
          ]
        }
      ],
      "source": [
        "print('''長庚大學\n",
        "醫學系\n",
        "郭柏佑''')"
      ]
    },
    {
      "cell_type": "code",
      "source": [
        "a=3\n",
        "b=5\n",
        "print(a**b)"
      ],
      "metadata": {
        "colab": {
          "base_uri": "https://localhost:8080/"
        },
        "id": "RdiMCFp0kVnL",
        "outputId": "7208c1cf-2240-4960-fe9e-e15981c7120e"
      },
      "execution_count": 5,
      "outputs": [
        {
          "output_type": "stream",
          "name": "stdout",
          "text": [
            "243\n"
          ]
        }
      ]
    },
    {
      "cell_type": "code",
      "source": [
        "a=3\n",
        "b=5\n",
        "a/=b\n",
        "print(a)"
      ],
      "metadata": {
        "colab": {
          "base_uri": "https://localhost:8080/"
        },
        "id": "tDTG_XXPkfXC",
        "outputId": "5a105aac-24d8-42af-9f2d-d576817c81d4"
      },
      "execution_count": 8,
      "outputs": [
        {
          "output_type": "stream",
          "name": "stdout",
          "text": [
            "0.6\n"
          ]
        }
      ]
    }
  ]
}