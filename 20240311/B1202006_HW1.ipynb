{
  "nbformat": 4,
  "nbformat_minor": 0,
  "metadata": {
    "colab": {
      "provenance": []
    },
    "kernelspec": {
      "name": "python3",
      "display_name": "Python 3"
    },
    "language_info": {
      "name": "python"
    }
  },
  "cells": [
    {
      "cell_type": "code",
      "execution_count": 2,
      "metadata": {
        "colab": {
          "base_uri": "https://localhost:8080/"
        },
        "id": "B7j1WD0U6T-T",
        "outputId": "164eba5d-6247-412d-d140-3a566e5a5b6d"
      },
      "outputs": [
        {
          "output_type": "stream",
          "name": "stdout",
          "text": [
            "I'm a student\n"
          ]
        }
      ],
      "source": [
        "print(\"I'm a student\")"
      ]
    },
    {
      "cell_type": "code",
      "source": [
        "A1=float(input('輸入X1座標'))\n",
        "A2=float(input('輸入Y1座標'))\n",
        "B1=float(input('輸入X2座標'))\n",
        "B2=float(input('輸入Y2座標'))\n",
        "print(((A1-B1)**2+(A2-B2)**2)**0.5)"
      ],
      "metadata": {
        "colab": {
          "base_uri": "https://localhost:8080/"
        },
        "id": "otzw5Vwa7Wp-",
        "outputId": "1f3f6c0f-3f86-4f2c-a4b9-9df380af6e0a"
      },
      "execution_count": null,
      "outputs": [
        {
          "output_type": "stream",
          "name": "stdout",
          "text": [
            "輸入X1座標5\n",
            "輸入Y1座標6\n",
            "輸入X2座標1\n",
            "輸入Y2座標1\n",
            "6.4031242374328485\n"
          ]
        }
      ]
    },
    {
      "cell_type": "code",
      "source": [
        "height=float(input('輸入身高(公分)'))\n",
        "weight=float(input('輸入體重(公斤)'))\n",
        "height*=height\n",
        "print(weight/(height/10000))"
      ],
      "metadata": {
        "colab": {
          "base_uri": "https://localhost:8080/"
        },
        "id": "xKhXk34DDnTW",
        "outputId": "6c09f878-620a-43d8-d0f3-205a106b15c6"
      },
      "execution_count": 1,
      "outputs": [
        {
          "output_type": "stream",
          "name": "stdout",
          "text": [
            "輸入身高(公分)170\n",
            "輸入體重(公斤)58\n",
            "20.069204152249135\n"
          ]
        }
      ]
    }
  ]
}