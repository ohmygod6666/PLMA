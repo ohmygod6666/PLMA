{
  "nbformat": 4,
  "nbformat_minor": 0,
  "metadata": {
    "colab": {
      "provenance": []
    },
    "kernelspec": {
      "name": "python3",
      "display_name": "Python 3"
    },
    "language_info": {
      "name": "python"
    }
  },
  "cells": [
    {
      "cell_type": "code",
      "execution_count": 6,
      "metadata": {
        "colab": {
          "base_uri": "https://localhost:8080/"
        },
        "id": "3KyAPt1LpF8d",
        "outputId": "c8eff574-1268-4aad-fabd-bf62acbb689c"
      },
      "outputs": [
        {
          "output_type": "stream",
          "name": "stdout",
          "text": [
            "1 x 1 = 1   2 x 1 = 2   3 x 1 = 3   4 x 1 = 4   5 x 1 = 5   6 x 1 = 6   7 x 1 = 7   8 x 1 = 8   9 x 1 = 9   \n",
            "1 x 2 = 2   2 x 2 = 4   3 x 2 = 6   4 x 2 = 8   5 x 2 = 10  6 x 2 = 12  7 x 2 = 14  8 x 2 = 16  9 x 2 = 18  \n",
            "1 x 3 = 3   2 x 3 = 6   3 x 3 = 9   4 x 3 = 12  5 x 3 = 15  6 x 3 = 18  7 x 3 = 21  8 x 3 = 24  9 x 3 = 27  \n",
            "1 x 4 = 4   2 x 4 = 8   3 x 4 = 12  4 x 4 = 16  5 x 4 = 20  6 x 4 = 24  7 x 4 = 28  8 x 4 = 32  9 x 4 = 36  \n",
            "1 x 5 = 5   2 x 5 = 10  3 x 5 = 15  4 x 5 = 20  5 x 5 = 25  6 x 5 = 30  7 x 5 = 35  8 x 5 = 40  9 x 5 = 45  \n",
            "1 x 6 = 6   2 x 6 = 12  3 x 6 = 18  4 x 6 = 24  5 x 6 = 30  6 x 6 = 36  7 x 6 = 42  8 x 6 = 48  9 x 6 = 54  \n",
            "1 x 7 = 7   2 x 7 = 14  3 x 7 = 21  4 x 7 = 28  5 x 7 = 35  6 x 7 = 42  7 x 7 = 49  8 x 7 = 56  9 x 7 = 63  \n",
            "1 x 8 = 8   2 x 8 = 16  3 x 8 = 24  4 x 8 = 32  5 x 8 = 40  6 x 8 = 48  7 x 8 = 56  8 x 8 = 64  9 x 8 = 72  \n",
            "1 x 9 = 9   2 x 9 = 18  3 x 9 = 27  4 x 9 = 36  5 x 9 = 45  6 x 9 = 54  7 x 9 = 63  8 x 9 = 72  9 x 9 = 81  \n"
          ]
        }
      ],
      "source": [
        "a=1\n",
        "while a<=9:\n",
        "  b=1\n",
        "  while b<=9:\n",
        "    c=a*b\n",
        "    print(f'{b} x {a} = {c:<2d}',end='  ')\n",
        "    b+=1\n",
        "  a+=1\n",
        "  print()\n",
        ""
      ]
    },
    {
      "cell_type": "code",
      "source": [
        "import random\n",
        "answer=random.sample(range(1,10),4)\n",
        "print(answer)\n",
        "count=0\n",
        "flag=True\n",
        "while flag==True:\n",
        "  guess=input('輸入四個數字(不會重複)')\n",
        "  A=0\n",
        "  B=0\n",
        "  if len(guess)!=4:\n",
        "    guess=input('輸入數字不是四個，輸入四個數字(不會重複)')\n",
        "  count+=1\n",
        "  for i in guess:\n",
        "    i=int(i)\n",
        "    if i in answer:\n",
        "      i=str(i)\n",
        "      if int(i)==int(answer[guess.index(i)]):\n",
        "        A+=1\n",
        "      else:\n",
        "        B+=1\n",
        "  if A==4:\n",
        "    flag=False\n",
        "    print(f'{A}A{B}B')\n",
        "    print(f'答對了!總共猜了{count}次')\n",
        "  else:\n",
        "    print(f'{A}A{B}B')\n",
        "\n"
      ],
      "metadata": {
        "colab": {
          "base_uri": "https://localhost:8080/"
        },
        "id": "UlYAD0fwsJyJ",
        "outputId": "a2ee21c3-1365-4311-d612-0082cb37978c"
      },
      "execution_count": 24,
      "outputs": [
        {
          "output_type": "stream",
          "name": "stdout",
          "text": [
            "[5, 7, 1, 9]\n",
            "輸入四個數字(不會重複)1234\n",
            "0A1B\n",
            "輸入四個數字(不會重複)12345\n",
            "輸入數字不是四個，輸入四個數字(不會重複)5679\n",
            "2A1B\n",
            "輸入四個數字(不會重複)1975\n",
            "0A4B\n",
            "輸入四個數字(不會重複)5719\n",
            "4A0B\n",
            "答對了!總共猜了4次\n"
          ]
        }
      ]
    }
  ]
}