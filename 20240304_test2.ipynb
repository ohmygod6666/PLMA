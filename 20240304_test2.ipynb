{
  "nbformat": 4,
  "nbformat_minor": 0,
  "metadata": {
    "colab": {
      "provenance": []
    },
    "kernelspec": {
      "name": "python3",
      "display_name": "Python 3"
    },
    "language_info": {
      "name": "python"
    }
  },
  "cells": [
    {
      "cell_type": "code",
      "execution_count": null,
      "metadata": {
        "colab": {
          "base_uri": "https://localhost:8080/"
        },
        "id": "_D-iS2C6d5mt",
        "outputId": "a393005f-60c1-4d18-bc12-a67f52f8de9e"
      },
      "outputs": [
        {
          "output_type": "stream",
          "name": "stdout",
          "text": [
            "495\n"
          ]
        }
      ],
      "source": [
        "x=2\n",
        "y=1\n",
        "answer=(2*x+y)*(100-y)\n",
        "print(answer)"
      ]
    },
    {
      "cell_type": "code",
      "source": [
        "y=4\n",
        "answer=100/(2*y+1)\n",
        "print(answer)"
      ],
      "metadata": {
        "colab": {
          "base_uri": "https://localhost:8080/"
        },
        "id": "k_mUmazMgAjy",
        "outputId": "c13bfd47-acfc-4d1c-f02e-72a6d106a30b"
      },
      "execution_count": null,
      "outputs": [
        {
          "output_type": "stream",
          "name": "stdout",
          "text": [
            "11.11111111111111\n"
          ]
        }
      ]
    }
  ]
}