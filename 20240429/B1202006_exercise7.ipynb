{
  "nbformat": 4,
  "nbformat_minor": 0,
  "metadata": {
    "colab": {
      "provenance": []
    },
    "kernelspec": {
      "name": "python3",
      "display_name": "Python 3"
    },
    "language_info": {
      "name": "python"
    }
  },
  "cells": [
    {
      "cell_type": "code",
      "execution_count": 4,
      "metadata": {
        "colab": {
          "base_uri": "https://localhost:8080/"
        },
        "id": "hypRA1KJrIn6",
        "outputId": "24212872-7d7b-4898-8a2d-ef6727e9db3c"
      },
      "outputs": [
        {
          "output_type": "stream",
          "name": "stdout",
          "text": [
            "聖誕樹高度：8\n",
            "       *       \n",
            "      ***      \n",
            "     *****     \n",
            "    *******    \n",
            "   *********   \n",
            "  ***********  \n",
            " ************* \n",
            "***************\n",
            "      ***      \n",
            "      ***      \n",
            "      ***      \n",
            "      ***      \n",
            "      ***      \n"
          ]
        }
      ],
      "source": [
        "a='*'\n",
        "def f(h):\n",
        "  l=[]\n",
        "  for i in range(0,h):\n",
        "   l.append(\" \"* (h-i-1)+a*(2*i+1)+\" \"*(h-i-1))\n",
        "  for j in range(5):\n",
        "    l.append(\" \"*(h-2)+a*3+\" \"*(h-2))\n",
        "  return l\n",
        "h=input('聖誕樹高度：')\n",
        "l=(f(int(h)))\n",
        "for x in l:\n",
        "  print(x)"
      ]
    },
    {
      "cell_type": "code",
      "source": [
        "def f(h,w):\n",
        "  try:\n",
        "    h=float (h)\n",
        "    w=float (w)\n",
        "    bmi=w/((h/100)**2)\n",
        "    x=f'BMI:{bmi}'\n",
        "    if bmi<18.5:\n",
        "      d='體位：過輕'\n",
        "    elif 18.5<=bmi<24:\n",
        "      d='體位：適中'\n",
        "    elif 24<=bmi<27:\n",
        "      d='體位：過重'\n",
        "    else:\n",
        "      d='體位：肥胖'\n",
        "    return x,d\n",
        "  except ValueError:\n",
        "    d=('輸入內容錯誤')\n",
        "    return [d]\n",
        "\n",
        "h=input(\"身高（公分）:\")\n",
        "w=input(\"體重:\")\n",
        "for a in f(h,w):\n",
        "  print (a)\n",
        "h=input(\"身高（公分）:\")\n",
        "w=input(\"體重:\")\n",
        "for a in f(h,w):\n",
        "  print (a)"
      ],
      "metadata": {
        "colab": {
          "base_uri": "https://localhost:8080/"
        },
        "id": "E1XRLn5k7yFV",
        "outputId": "22d5a8e6-b3c0-4e99-a091-40b4c1bee65b"
      },
      "execution_count": 5,
      "outputs": [
        {
          "output_type": "stream",
          "name": "stdout",
          "text": [
            "身高（公分）:170\n",
            "體重:j\n",
            "輸入內容錯誤\n",
            "身高（公分）:170\n",
            "體重:59\n",
            "BMI:20.41522491349481\n",
            "體位：適中\n"
          ]
        }
      ]
    }
  ]
}